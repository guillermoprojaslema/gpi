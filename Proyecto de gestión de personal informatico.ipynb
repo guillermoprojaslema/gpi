{
 "metadata": {
  "name": "Proyecto de gesti\u00f3n de personal informatico"
 },
 "nbformat": 3,
 "nbformat_minor": 0,
 "worksheets": [
  {
   "cells": [
    {
     "cell_type": "markdown",
     "metadata": {},
     "source": [
      "Clasificaci\u00f3n\n",
      "==="
     ]
    },
    {
     "cell_type": "code",
     "collapsed": false,
     "input": [
      "import os\n",
      "from numpy import loadtxt\n",
      "import pandas as pd\n",
      "\n",
      "#lectura de exce\n",
      "excel_file = pd.ExcelFile('./Copia de GPI (respuestas).xlsx')\n",
      "excel_file.sheet_names"
     ],
     "language": "python",
     "metadata": {},
     "outputs": [
      {
       "output_type": "pyout",
       "prompt_number": 6,
       "text": [
        "[u'Respuestas de formulario']"
       ]
      }
     ],
     "prompt_number": 6
    },
    {
     "cell_type": "code",
     "collapsed": false,
     "input": [
      "#dataframe con la informacion de la encuesta\n",
      "df = excel_file.parse('Respuestas de formulario')"
     ],
     "language": "python",
     "metadata": {},
     "outputs": [],
     "prompt_number": 9
    },
    {
     "cell_type": "code",
     "collapsed": false,
     "input": [
      "from rpy2.robjects import r\n",
      "from rpy2.robjects.packages import importr"
     ],
     "language": "python",
     "metadata": {},
     "outputs": [],
     "prompt_number": 27
    },
    {
     "cell_type": "code",
     "collapsed": false,
     "input": [
      "cluster = importr('cluster')\n",
      "cluster\n",
      "\n",
      "#identificar los centroides que son representativos a las cualidades que se buscan clasificar"
     ],
     "language": "python",
     "metadata": {},
     "outputs": [],
     "prompt_number": 29
    }
   ],
   "metadata": {}
  }
 ]
}